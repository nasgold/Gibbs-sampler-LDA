{
 "cells": [
  {
   "cell_type": "code",
   "execution_count": 1,
   "metadata": {},
   "outputs": [],
   "source": [
    "import time\n",
    "import pickle\n",
    "import numpy as np\n",
    "from nltk.corpus import reuters\n",
    "from nltk.corpus import stopwords"
   ]
  },
  {
   "cell_type": "code",
   "execution_count": 2,
   "metadata": {},
   "outputs": [
    {
     "data": {
      "text/plain": [
       "10788"
      ]
     },
     "execution_count": 2,
     "metadata": {},
     "output_type": "execute_result"
    }
   ],
   "source": [
    "# get the doc id for each doc in our corpus\n",
    "doc_ids = reuters.fileids()\n",
    "n_docs = len(doc_ids)\n",
    "n_docs"
   ]
  },
  {
   "cell_type": "code",
   "execution_count": 3,
   "metadata": {},
   "outputs": [],
   "source": [
    "# load the cleaned corpus vocab\n",
    "V = pickle.load(open('reuters-clean-vocab.p', 'rb'))"
   ]
  },
  {
   "cell_type": "code",
   "execution_count": 4,
   "metadata": {},
   "outputs": [],
   "source": [
    "# get stop words so we can filter them out\n",
    "stop_words = set(stopwords.words('english'))"
   ]
  },
  {
   "cell_type": "code",
   "execution_count": 5,
   "metadata": {},
   "outputs": [],
   "source": [
    "# go through each doc in the corpus and represent it both as a\n",
    "# BoW vector with counts (n_docs x len(V)) and as a list of vocab indices (n_docs x various)\n",
    "bow_vecs = []\n",
    "vidx_vecs = []\n",
    "for i in range(n_docs):\n",
    "    cur_doc_words = reuters.words(doc_ids[i])\n",
    "    \n",
    "    cur_bow_vec = np.zeros(len(V))\n",
    "    cur_vidx_vec = []\n",
    "    for w in cur_doc_words:\n",
    "        w = w.lower()\n",
    "        if not w.isalpha():\n",
    "            continue\n",
    "        if w in stop_words:\n",
    "            continue\n",
    "        if len(w) < 4:\n",
    "            continue\n",
    "        vidx = V.index(w)\n",
    "        cur_bow_vec[vidx] += 1\n",
    "        cur_vidx_vec.append(vidx)\n",
    "\n",
    "    bow_vecs.append(cur_bow_vec)\n",
    "    vidx_vecs.append(cur_vidx_vec)\n",
    "    "
   ]
  },
  {
   "cell_type": "code",
   "execution_count": 6,
   "metadata": {},
   "outputs": [],
   "source": [
    "# convert to numpy arrays and then confirm our understanding of the dimensions\n",
    "bow_corpus = np.asarray(bow_vecs)\n",
    "vidx_corpus = np.asarray([np.asarray(vec) for vec in vidx_vecs])"
   ]
  },
  {
   "cell_type": "code",
   "execution_count": 7,
   "metadata": {},
   "outputs": [
    {
     "data": {
      "text/plain": [
       "(10788, 26435)"
      ]
     },
     "execution_count": 7,
     "metadata": {},
     "output_type": "execute_result"
    }
   ],
   "source": [
    "bow_corpus.shape"
   ]
  },
  {
   "cell_type": "code",
   "execution_count": 8,
   "metadata": {},
   "outputs": [
    {
     "data": {
      "text/plain": [
       "(10788, 413, 55)"
      ]
     },
     "execution_count": 8,
     "metadata": {},
     "output_type": "execute_result"
    }
   ],
   "source": [
    "len(vidx_corpus), len(vidx_corpus[0]), len(vidx_corpus[1])"
   ]
  },
  {
   "cell_type": "code",
   "execution_count": 9,
   "metadata": {},
   "outputs": [],
   "source": [
    "pickle.dump(bow_corpus, open('reuters-clean-corpus-bow.p', 'wb'))"
   ]
  },
  {
   "cell_type": "code",
   "execution_count": 10,
   "metadata": {},
   "outputs": [],
   "source": [
    "pickle.dump(vidx_corpus, open('reuters-clean-corpus-vidx.p', 'wb'))"
   ]
  },
  {
   "cell_type": "code",
   "execution_count": null,
   "metadata": {},
   "outputs": [],
   "source": []
  }
 ],
 "metadata": {
  "kernelspec": {
   "display_name": "Python 3",
   "language": "python",
   "name": "python3"
  },
  "language_info": {
   "codemirror_mode": {
    "name": "ipython",
    "version": 3
   },
   "file_extension": ".py",
   "mimetype": "text/x-python",
   "name": "python",
   "nbconvert_exporter": "python",
   "pygments_lexer": "ipython3",
   "version": "3.7.6"
  }
 },
 "nbformat": 4,
 "nbformat_minor": 4
}
